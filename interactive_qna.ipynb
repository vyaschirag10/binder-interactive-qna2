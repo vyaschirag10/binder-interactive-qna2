{
 "cells": [
  {
   "cell_type": "code",
   "execution_count": null,
   "metadata": {},
   "outputs": [],
   "source": [
    "import pandas as pd\n",
    "from fuzzywuzzy import process\n",
    "\n",
    "# Step 1: Load the Excel master file\n",
    "file_path = 'master.xlsx'  # Make sure your Excel file is in the same folder\n",
    "try:\n",
    "    df = pd.read_excel(file_path)\n",
    "    print(\"Master file loaded successfully!\")\n",
    "except FileNotFoundError:\n",
    "    print(f\"File '{file_path}' not found. Upload it to the same folder as this notebook.\")\n",
    "    df = pd.DataFrame()\n",
    "\n",
    "# Check columns\n",
    "if 'Question' not in df.columns or 'Answer' not in df.columns:\n",
    "    print(\"Master file must have 'Question' and 'Answer' columns.\")\n",
    "    df = pd.DataFrame(columns=['Question', 'Answer'])\n",
    "\n",
    "# Step 2: Fuzzy search function\n",
    "def get_answer_fuzzy(user_question, df, threshold=70):\n",
    "    if df.empty:\n",
    "        return \"Master file is empty or not loaded correctly.\"\n",
    "    questions = df['Question'].astype(str).tolist()\n",
    "    matches = process.extract(user_question, questions, limit=5)\n",
    "    best_matches = [match for match in matches if match[1] >= threshold]\n",
    "    if not best_matches:\n",
    "        return \"No matching answer found in master file.\"\n",
    "    answers = []\n",
    "    for match in best_matches:\n",
    "        matched_question = match[0]\n",
    "        answer_row = df[df['Question'] == matched_question]['Answer'].tolist()\n",
    "        answers.extend(answer_row)\n",
    "    return answers\n",
    "\n",
    "# Step 3: Interactive session\n",
    "print(\"\\nInteractive Q&A (type 'exit' to quit):\")\n",
    "while True:\n",
    "    user_input = input(\"Enter your question: \" )\n",
    "    if user_input.lower() == 'exit':\n",
    "        print(\"Exiting interactive session.\")\n",
    "        break\n",
    "    response = get_answer_fuzzy(user_input, df)\n",
    "    print(\"Answer:\", response)"
   ]
  }
 ],
 "metadata": {
  "kernelspec": {
   "display_name": "Python 3",
   "language": "python",
   "name": "python3"
  },
  "language_info": {
   "name": "python",
   "version": "3.x"
  }
 },
 "nbformat": 4,
 "nbformat_minor": 5
}