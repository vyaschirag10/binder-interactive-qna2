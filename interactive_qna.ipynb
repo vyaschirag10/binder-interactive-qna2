{
 "cells": [
  {
   "cell_type": "code",
   "execution_count": None,
   "metadata": {},
   "outputs": [],
   "source": [
    "import pandas as pd\n",
    "from fuzzywuzzy import process\n",
    "\n",
    "# Step 1: Load the Excel master file\n",
    "file_path = 'master.xlsx'  # Ensure this file is in the same folder\n",
    "try:\n",
    "    df = pd.read_excel(file_path)\n",
    "    print(\"Master file loaded successfully!\")\n",
    "except FileNotFoundError:\n",
    "    print(f\"File '{file_path}' not found. Upload it to the same folder as this notebook.\")\n",
    "    df = pd.DataFrame()\n",
    "\n",
    "# Check columns\n",
    "required_columns = ['Question/Issue', 'Solution']\n",
    "if not all(col in df.columns for col in required_columns):\n",
    "    print(f\"Master file must have columns: {required_columns}\")\n",
    "    df = pd.DataFrame(columns=required_columns)\n",
    "\n",
    "# Step 2: Fuzzy search function\n",
    "def get_solution_fuzzy(user_question, df, threshold=70):\n",
    "    if df.empty:\n",
    "        return \"Master file is empty or not loaded correctly.\"\n",
    "    questions = df['Question/Issue'].astype(str).tolist()\n",
    "    matches = process.extract(user_question, questions, limit=5)\n",
    "    best_matches = [match for match in matches if match[1] >= threshold]\n",
    "    if not best_matches:\n",
    "        return \"No matching solution found in master file.\"\n",
    "    solutions = []\n",
    "    for match in best_matches:\n",
    "        matched_question = match[0]\n",
    "        solution_row = df[df['Question/Issue'] == matched_question]['Solution'].tolist()\n",
    "        solutions.extend(solution_row)\n",
    "    return solutions\n",
    "\n",
    "# Step 3: Interactive session\n",
    "print(\"\\nInteractive Q&A (type 'exit' to quit):\")\n",
    "while True:\n",
    "    user_input = input(\"Enter your question: \" )\n",
    "    if user_input.lower() == 'exit':\n",
    "        print(\"Exiting interactive session.\")\n",
    "        break\n",
    "    response = get_solution_fuzzy(user_input, df)\n",
    "    print(\"Solution:\", response)"
   ]
  }
 ],
 "metadata": {
  "kernelspec": {
   "display_name": "Python 3",
   "language": "python",
   "name": "python3"
  },
  "language_info": {
   "name": "python",
   "version": "3.x"
  }
 },
 "nbformat": 4,
 "nbformat_minor": 5
}
